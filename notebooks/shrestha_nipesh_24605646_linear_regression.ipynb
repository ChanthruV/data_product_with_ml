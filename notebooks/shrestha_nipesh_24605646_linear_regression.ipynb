{
  "cells": [
    {
      "cell_type": "markdown",
      "metadata": {
        "id": "oYeeJDVXQlw4"
      },
      "source": [
        "#**36120 Advanced Machine Learning Application - Spring 2023**\n",
        "\n",
        "## AT3 - Data Product with Machine Learning:\n",
        "\n",
        " Nipesh Shrestha / **24605646**\n",
        "\n",
        "\n",
        "---\n",
        "\n",
        "\n",
        "\n",
        "**Business case:**\n",
        "\n",
        "The goal is to build a data product that will help users in the USA to estimate their local travel airfare better. Users can provide details of their trip and the app will predict the expected flight fare.\n",
        "\n",
        "**Deliverable:**\n",
        "\n",
        " Build a Streamlit app that let users provide the following inputs:\n",
        "\n",
        "*   Origin airport\n",
        "*   Destination airport\n",
        "*   Departure date\n",
        "*   Departure time\n",
        "*   Cabin type (coach, premium, …)\n",
        "\n",
        "\n",
        "\n",
        "\n",
        "\n",
        "\n",
        "\n",
        "\n"
      ]
    },
    {
      "cell_type": "code",
      "execution_count": 3,
      "metadata": {},
      "outputs": [
        {
          "name": "stdout",
          "output_type": "stream",
          "text": [
            "Best Hyperparameters: {'fit_intercept': True}\n",
            "Training MSE (Tuned): 26187.99\n",
            "Validation MSE (Tuned): 26304.28\n"
          ]
        }
      ],
      "source": [
        "import numpy as np\n",
        "from sklearn.linear_model import LinearRegression\n",
        "from sklearn.metrics import mean_squared_error\n",
        "from sklearn.model_selection import GridSearchCV\n",
        "from joblib import dump\n",
        "\n",
        "# Load the saved sets from data/processed using numpy\n",
        "X_train = np.load('../data/processed/X_train.npy')\n",
        "X_val = np.load('../data/processed/X_val.npy')\n",
        "y_train = np.load('../data/processed/y_train.npy')\n",
        "y_val = np.load('../data/processed/y_val.npy')\n",
        "\n",
        "# Define a range of hyperparameters to search through\n",
        "param_grid = {\n",
        "    'fit_intercept': [True, False],  # Whether to calculate the intercept\n",
        "}\n",
        "\n",
        "# Instantiate the Linear Regression model\n",
        "linear_reg_model = LinearRegression()\n",
        "\n",
        "# Create a GridSearchCV object with cross-validation\n",
        "grid_search = GridSearchCV(linear_reg_model, param_grid, cv=5, scoring='neg_mean_squared_error')\n",
        "\n",
        "# Fit the GridSearchCV to the training data\n",
        "grid_search.fit(X_train, y_train)\n",
        "\n",
        "# Get the best hyperparameters from the search\n",
        "best_params = grid_search.best_params_\n",
        "\n",
        "# Train the final Linear Regression model with the best hyperparameters\n",
        "final_linear_reg_model = LinearRegression(**best_params)\n",
        "final_linear_reg_model.fit(X_train, y_train)\n",
        "\n",
        "# Save the trained Linear Regression model\n",
        "dump(final_linear_reg_model, '../models/linear_reg_model_tuned.joblib')\n",
        "\n",
        "# Predict values for the training and validation sets using the tuned model\n",
        "predicted_values_train = final_linear_reg_model.predict(X_train)\n",
        "predicted_values_val = final_linear_reg_model.predict(X_val)\n",
        "\n",
        "# Calculate the Mean Squared Error (MSE) for the training set using the tuned model\n",
        "mse_train = mean_squared_error(y_train, predicted_values_train)\n",
        "\n",
        "# Calculate the Mean Squared Error (MSE) for the validation set using the tuned model\n",
        "mse_val = mean_squared_error(y_val, predicted_values_val)\n",
        "\n",
        "# Display the MSE scores and best hyperparameters\n",
        "print(f\"Best Hyperparameters: {best_params}\")\n",
        "print(f\"Training MSE (Tuned): {mse_train:.2f}\")\n",
        "print(f\"Validation MSE (Tuned): {mse_val:.2f}\")\n"
      ]
    },
    {
      "cell_type": "markdown",
      "metadata": {},
      "source": [
        "This Linear Regression models performs better than the baseline but worse than the xgboost and random forest models. However, it is much more computationally efficient and a faster solution."
      ]
    }
  ],
  "metadata": {
    "colab": {
      "provenance": []
    },
    "kernelspec": {
      "display_name": "Python 3",
      "language": "python",
      "name": "python3"
    },
    "language_info": {
      "codemirror_mode": {
        "name": "ipython",
        "version": 3
      },
      "file_extension": ".py",
      "mimetype": "text/x-python",
      "name": "python",
      "nbconvert_exporter": "python",
      "pygments_lexer": "ipython3",
      "version": "3.9.13"
    }
  },
  "nbformat": 4,
  "nbformat_minor": 0
}
