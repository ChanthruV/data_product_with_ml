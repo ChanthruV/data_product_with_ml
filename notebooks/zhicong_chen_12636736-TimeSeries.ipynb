{
 "cells": [
  {
   "cell_type": "code",
   "execution_count": 2,
   "metadata": {},
   "outputs": [
    {
     "name": "stderr",
     "output_type": "stream",
     "text": [
      "c:\\Users\\chant\\AppData\\Local\\pypoetry\\Cache\\virtualenvs\\data-product-with-ml-ZVsQeeWq-py3.9\\lib\\site-packages\\statsmodels\\tsa\\statespace\\varmax.py:161: EstimationWarning: Estimation of VARMA(p,q) models is not generically robust, due especially to identification issues.\n",
      "  warn('Estimation of VARMA(p,q) models is not generically robust,'\n"
     ]
    }
   ],
   "source": [
    "import pandas as pd\n",
    "import numpy as np\n",
    "from statsmodels.tsa.statespace.varmax import VARMAX\n",
    "from sklearn.metrics import mean_squared_error\n",
    "import joblib\n",
    "\n",
    "# Load the saved sets from data/processed using numpy\n",
    "X_train = np.load('../data/processed/X_train.npy')\n",
    "X_val = np.load('../data/processed/X_val.npy')\n",
    "y_train = np.load('../data/processed/y_train.npy')\n",
    "y_val = np.load('../data/processed/y_val.npy')\n",
    "\n",
    "# Create a pandas DataFrame from your training data\n",
    "feature_columns = ['feature1', 'feature2', 'feature3', 'feature4', 'feature5', 'feature6', 'feature7', 'feature8', 'feature9', 'feature10', 'feature11']\n",
    "train_df = pd.DataFrame(X_train, columns=feature_columns)\n",
    "\n",
    "# Create a pandas DataFrame for the target variable\n",
    "target_df = pd.DataFrame(y_train, columns=['totalFare'])\n",
    "\n",
    "# Combine the target variable and feature variables\n",
    "train_df = pd.concat([target_df, train_df], axis=1)\n",
    "\n",
    "# Fit a VARMA model\n",
    "p = 2  # Specify the order for autoregressive (AR) component\n",
    "q = 1  # Specify the order for moving average (MA) component\n",
    "model = VARMAX(train_df, order=(p, q))\n",
    "model_fitted = model.fit(disp=False)\n",
    "\n",
    "# Save the fitted model to a .joblib file\n",
    "joblib.dump(model_fitted, 'varma_model.joblib')\n",
    "\n",
    "# Make predictions on validation data\n",
    "forecast = model_fitted.forecast(steps=len(X_val))\n",
    "\n",
    "# Calculate Mean Squared Error (MSE) for the predictions\n",
    "mse = mean_squared_error(y_val, forecast)\n",
    "\n",
    "print(f'Mean Squared Error (MSE) on Validation Data: {mse:.2f}')\n"
   ]
  },
  {
   "cell_type": "code",
   "execution_count": 1,
   "metadata": {},
   "outputs": [
    {
     "name": "stderr",
     "output_type": "stream",
     "text": [
      "c:\\Users\\chant\\AppData\\Local\\pypoetry\\Cache\\virtualenvs\\data-product-with-ml-ZVsQeeWq-py3.9\\lib\\site-packages\\statsmodels\\tsa\\statespace\\varmax.py:161: EstimationWarning: Estimation of VARMA(p,q) models is not generically robust, due especially to identification issues.\n",
      "  warn('Estimation of VARMA(p,q) models is not generically robust,'\n"
     ]
    }
   ],
   "source": [
    "import pandas as pd\n",
    "import numpy as np\n",
    "from statsmodels.tsa.statespace.varmax import VARMAX\n",
    "from sklearn.metrics import mean_squared_error\n",
    "import joblib\n",
    "from sklearn.model_selection import train_test_split\n",
    "\n",
    "# Load the saved sets from data/processed using numpy\n",
    "X_train = np.load('../data/processed/X_train.npy')\n",
    "X_val = np.load('../data/processed/X_val.npy')\n",
    "y_train = np.load('../data/processed/y_train.npy')\n",
    "y_val = np.load('../data/processed/y_val.npy')\n",
    "\n",
    "# Specify the fraction of data to use (e.g., 20%)\n",
    "data_fraction = 0.2\n",
    "\n",
    "# Randomly select a subset of the data for training\n",
    "X_train_subset, _, y_train_subset, _ = train_test_split(\n",
    "    X_train, y_train, train_size=data_fraction, random_state=42\n",
    ")\n",
    "\n",
    "# Create a pandas DataFrame from your training data\n",
    "feature_columns = ['feature1', 'feature2', 'feature3', 'feature4', 'feature5', 'feature6', 'feature7', 'feature8', 'feature9', 'feature10', 'feature11']\n",
    "train_df = pd.DataFrame(X_train_subset, columns=feature_columns)\n",
    "\n",
    "# Create a pandas DataFrame for the target variable\n",
    "target_df = pd.DataFrame(y_train_subset, columns=['totalFare'])\n",
    "\n",
    "# Combine the target variable and feature variables\n",
    "train_df = pd.concat([target_df, train_df], axis=1)\n",
    "\n",
    "# Fit a VARMA model\n",
    "p = 2  # Specify the order for autoregressive (AR) component\n",
    "q = 1  # Specify the order for moving average (MA) component\n",
    "model = VARMAX(train_df, order=(p, q))\n",
    "model_fitted = model.fit(disp=False)\n",
    "\n",
    "# Save the fitted model to a .joblib file\n",
    "joblib.dump(model_fitted, 'varma_model.joblib')\n",
    "\n",
    "# Make predictions on validation data\n",
    "forecast = model_fitted.forecast(steps=len(X_val))\n",
    "\n",
    "# Calculate Mean Squared Error (MSE) for the predictions\n",
    "mse = mean_squared_error(y_val, forecast)\n",
    "\n",
    "print(f'Mean Squared Error (MSE) on Validation Data: {mse:.2f}')"
   ]
  },
  {
   "cell_type": "code",
   "execution_count": null,
   "metadata": {},
   "outputs": [],
   "source": []
  }
 ],
 "metadata": {
  "kernelspec": {
   "display_name": "data-product-with-ml-ZVsQeeWq-py3.9",
   "language": "python",
   "name": "python3"
  },
  "language_info": {
   "codemirror_mode": {
    "name": "ipython",
    "version": 3
   },
   "file_extension": ".py",
   "mimetype": "text/x-python",
   "name": "python",
   "nbconvert_exporter": "python",
   "pygments_lexer": "ipython3",
   "version": "3.9.13"
  }
 },
 "nbformat": 4,
 "nbformat_minor": 2
}
