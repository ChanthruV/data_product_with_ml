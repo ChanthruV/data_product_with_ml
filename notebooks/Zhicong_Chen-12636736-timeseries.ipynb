import os
import zipfile
import pandas as pd
import numpy as np
import matplotlib.pyplot as plt
from statsmodels.tsa.arima_model import ARIMA
from statsmodels.graphics.tsaplots import plot_acf, plot_pacf
from pmdarima.arima import auto_arima
from sklearn.metrics import mean_squared_error
from statsmodels.tsa.stattools import adfuller

# Define the root folder where your zip files are located
root_folder = r'C:\Users\chant\OneDrive\Desktop\itineraries_csv'

# Define the destination folder where you want to extract the CSVs
destination_folder = r'C:\Users\chant\adv_mla_2023\data_product_with_ml\data\raw'

# Create the destination folder if it doesn't exist
if not os.path.exists(destination_folder):
    os.makedirs(destination_folder)

# Iterate through the subdirectories in the root folder
for subdir, _, files in os.walk(root_folder):
    for file in files:
        if file.endswith('.zip'):
            zip_file_path = os.path.join(subdir, file)
            with zipfile.ZipFile(zip_file_path, 'r') as zip_ref:
                zip_ref.extractall(destination_folder)

# Specify the directory where the CSV files are located
directory = r'C:\Users\chant\adv_mla_2023\data_product_with_ml\data\raw'

# Initialize an empty list to store DataFrames from individual CSV files
dfs = []

# Iterate over all files in the directory
for filename in os.listdir(directory):
    if filename.endswith(".csv"):
        # Read each CSV file into a DataFrame and append it to the list
        file_path = os.path.join(directory, filename)
        df = pd.read_csv(file_path)
        dfs.append(df)

# Concatenate all DataFrames in the list into one
combined_df = pd.concat(dfs, ignore_index=True)

# Data Preprocessing
# Handle missing values
combined_df.fillna(0, inplace=True)  # Replace missing values with zeros or other appropriate values

# Convert data types
combined_df['startingAirport'] = combined_df['startingAirport'].astype(str)
combined_df['destinationAirport'] = combined_df['destinationAirport'].astype(str)
combined_df['isBasicEconomy'] = combined_df['isBasicEconomy'].astype(bool)
combined_df['isRefundable'] = combined_df['isRefundable'].astype(bool)
combined_df['isNonStop'] = combined_df['isNonStop'].astype(bool)
combined_df['seatsRemaining'] = combined_df['seatsRemaining'].astype(int)

# Select a specific route or flight for analysis
route = 'YourRoute'  # Replace with the route you want to analyze
flight_data = combined_df[combined_df['route_column'] == route]

# Convert 'flightDate' to a datetime index
flight_data['flightDate'] = pd.to_datetime(flight_data['flightDate'])
flight_data.set_index('flightDate', inplace=True)

# Split data into training and testing sets
train_size = int(len(flight_data) * 0.8)  # Adjust the training set size as needed
train, test = flight_data.iloc[:train_size], flight_data.iloc[train_size:]

# Plot the time series data
plt.figure(figsize=(12, 6))
plt.plot(train['totalFare'], label='Train Data')
plt.plot(test['totalFare'], label='Test Data')
plt.title('Total Fare Over Time')
plt.xlabel('Date')
plt.ylabel('Total Fare')
plt.legend()
plt.show()

# Determine the order using ACF and PACF
lag_acf = plot_acf(train['totalFare'], lags=20)
lag_pacf = plot_pacf(train['totalFare'], lags=20)

# Determine the order using AIC
p_values = range(0, 6)
d_values = range(0, 2)
q_values = range(0, 6)

best_aic = float("inf")
best_order = None

for p in p_values:
    for d in d_values:
        for q in q_values:
            order = (p, d, q)
            try:
                model = ARIMA(train['totalFare'], order=order)
                model_fit = model.fit(disp=0)
                aic = model_fit.aic
                if aic < best_aic:
                    best_aic = aic
                    best_order = order
            except:
                continue

print(f'Best AIC: {best_aic:.2f}')
print(f'Best Order: {best_order}')

# Fit the ARIMA model with the best order
arima_model_best_order = ARIMA(train['totalFare'], order=best_order)
arima_result_best_order = arima_model_best_order.fit(disp=0)

# Make predictions with the best order
forecast_best_order, stderr_best_order, conf_int_best_order = arima_result_best_order.forecast(steps=len(test))

# Calculate Mean Squared Error (MSE) for the best order predictions
mse_best_order = mean_squared_error(test['totalFare'], forecast_best_order)

# Perform ADF test on the original time series data
def adf_test(timeseries):
    result = adfuller(timeseries, autolag='AIC')
    print('ADF Statistic:', result[0])
    print('p-value:', result[1])
    print('Critical Values:')
    for key, value in result[4].items():
        print(f'{key}: {value}')

adf_test(flight_data['totalFare'])

# Perform ADF test on the differenced time series data (if not stationary)
differenced_data = flight_data['totalFare'].diff().dropna()
adf_test(differenced_data)

# Model for Sample-In Predictions
model_in = auto_arima(train['totalFare'], seasonal=False, stepwise=True, suppress_warnings=True,
                      error_action="ignore", max_order=None)

order_in = model_in.get_params()['order']
arima_model_in = ARIMA(train['totalFare'], order=order_in)
arima_result_in = arima_model_in.fit(disp=0)

forecast_periods = len(test)
forecast_in, stderr_in, conf_int_in = arima_result_in.forecast(steps=forecast_periods)

mse_in = mean_squared_error(test['totalFare'], forecast_in)

# Model for Sample-Out Predictions
model_out = auto_arima(flight_data['totalFare'], seasonal=False, stepwise=True, suppress_warnings=True,
                       error_action="ignore", max_order=None)

order_out = model_out.get_params()['order']
arima_model_out = ARIMA(flight_data['totalFare'], order=order_out)
arima_result_out = arima_model_out.fit(disp=0)

forecast_periods_out = 30
forecast_out, stderr_out, conf_int_out = arima_result_out.forecast(steps=forecast_periods_out)

mse_out = mean_squared_error(test['totalFare'], forecast_out[:len(test])

# Plot the sample-in predictions and sample-out predictions
plt.figure(figsize=(12, 6))
plt.plot(test.index, test['totalFare'], label='Test Data')
plt.plot(test.index, forecast_in, label='Sample-In Forecast', color='red')
plt.plot(pd.date_range(start=test.index[-1], periods=forecast_periods_out+1, closed='right'),
         np.append(test['totalFare'].iloc[-1], forecast_out), label='Sample-Out Forecast', color='green')
plt.title('Sample-In vs. Sample-Out Predictions')
plt.xlabel('Date')
plt.ylabel('Total Fare')
plt.legend()
plt.show()

print(f'Mean Squared Error (MSE) for Best Order Predictions: {mse_best_order:.2f}')
print(f'Mean Squared Error (MSE) for Sample-In Predictions: {mse_in:.2f}')
print(f'Mean Squared Error (MSE) for Sample-Out Predictions: {mse_out:.2f}')
